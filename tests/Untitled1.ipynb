{
 "cells": [
  {
   "cell_type": "code",
   "execution_count": 1,
   "metadata": {
    "collapsed": true
   },
   "outputs": [],
   "source": [
    "import psycopg2\n",
    "conn=psycopg2.connect(database='test', user='ivan', password='charta77')\n",
    "cur=conn.cursor()"
   ]
  },
  {
   "cell_type": "code",
   "execution_count": 2,
   "metadata": {
    "collapsed": true
   },
   "outputs": [],
   "source": [
    "import json\n",
    "data=json.load(open('../data/ebooks.json'))"
   ]
  },
  {
   "cell_type": "code",
   "execution_count": 3,
   "metadata": {
    "collapsed": true
   },
   "outputs": [],
   "source": [
    "conn.rollback()\n",
    "cur.execute('delete from ebook')"
   ]
  },
  {
   "cell_type": "code",
   "execution_count": 4,
   "metadata": {
    "collapsed": false
   },
   "outputs": [],
   "source": [
    "for b in data:\n",
    "    cur.execute('insert into ebook (doc) values (%s)', (json.dumps(b),))\n",
    "conn.commit()"
   ]
  },
  {
   "cell_type": "code",
   "execution_count": 5,
   "metadata": {
    "collapsed": false
   },
   "outputs": [
    {
     "name": "stdout",
     "output_type": "stream",
     "text": [
      "The slowest run took 29.50 times longer than the fastest. This could mean that an intermediate result is being cached.\n",
      "1000 loops, best of 3: 318 µs per loop\n"
     ]
    }
   ],
   "source": [
    "%%timeit\n",
    "cur.execute(\"\"\"select doc->'title' from ebook where doc @> '{\"authors\":[{\"lastname\":\"Adams\"}]}'::jsonb limit 5\"\"\")\n",
    "cur.fetchall()"
   ]
  },
  {
   "cell_type": "code",
   "execution_count": 6,
   "metadata": {
    "collapsed": false
   },
   "outputs": [
    {
     "name": "stdout",
     "output_type": "stream",
     "text": [
      "10 loops, best of 3: 42.2 ms per loop\n"
     ]
    }
   ],
   "source": [
    "%%timeit\n",
    "cur.execute(\"\"\"select doc->'title' from ebook where doc->>'title' ilike 'ca%' \"\"\")\n",
    "cur.fetchall()"
   ]
  },
  {
   "cell_type": "code",
   "execution_count": 7,
   "metadata": {
    "collapsed": false
   },
   "outputs": [
    {
     "name": "stdout",
     "output_type": "stream",
     "text": [
      "10 loops, best of 3: 102 ms per loop\n"
     ]
    }
   ],
   "source": [
    "%%timeit\n",
    "cur.execute(\"\"\"select distinct b.id, b.doc->'title', a.value->>'lastname' from ebook b, jsonb_array_elements(b.doc->'authors') a \n",
    "where a.value->>'lastname' ilike 'ca%'\n",
    "\"\"\")\n",
    "list(cur)[:10]"
   ]
  },
  {
   "cell_type": "code",
   "execution_count": 8,
   "metadata": {
    "collapsed": false
   },
   "outputs": [
    {
     "name": "stdout",
     "output_type": "stream",
     "text": [
      "10 loops, best of 3: 132 ms per loop\n"
     ]
    }
   ],
   "source": [
    "%%timeit\n",
    "cur.execute(\"\"\"select  a.value->>'lastname' as lastname, a.value->>'firstname', count(b.id) as num_books \n",
    "from ebook b, jsonb_array_elements(b.doc->'authors') a \n",
    "group by a.value order by lastname\n",
    "\"\"\")\n",
    "list(cur)[:10]"
   ]
  },
  {
   "cell_type": "code",
   "execution_count": 9,
   "metadata": {
    "collapsed": false
   },
   "outputs": [
    {
     "name": "stdout",
     "output_type": "stream",
     "text": [
      "10 loops, best of 3: 101 ms per loop\n"
     ]
    }
   ],
   "source": [
    "\n",
    "%%timeit\n",
    "cur.execute(\"\"\"select  distinct a.value->>'lastname', a.value->>'firstname' from ebook b, jsonb_array_elements(b.doc->'authors') a \n",
    "\"\"\")\n",
    "list(cur)"
   ]
  },
  {
   "cell_type": "code",
   "execution_count": 10,
   "metadata": {
    "collapsed": false
   },
   "outputs": [
    {
     "name": "stdout",
     "output_type": "stream",
     "text": [
      "unaccent(b.doc->>'title') ilike unaccent('%karel%') and unaccent(b.doc->>'title') ilike unaccent('%capek%') or unaccent(b.doc->>'series') ilike unaccent('%karel%') and unaccent(b.doc->>'series') ilike unaccent('%capek%') or unaccent(concat(a.value->>'firstname', ' ', a.value->>'lastname')) ilike unaccent('%karel%') and unaccent(concat(a.value->>'firstname', ' ', a.value->>'lastname')) ilike unaccent('%capek%')\n"
     ]
    }
   ],
   "source": [
    "def build_search_expr(q):\n",
    "    def create_and(field):\n",
    "        return \" and \".join(map(lambda v: \"unaccent(%s) ilike %s\"%(field,v),q))\n",
    "    q=map(lambda x: x.strip(), q.split())\n",
    "    q=list(map(lambda x: \"unaccent('%%%s%%')\"%x,q))\n",
    "    terms=[create_and(\"b.doc->>'title'\"), create_and(\"b.doc->>'series'\"), \n",
    "           create_and(\"concat(a.value->>'firstname', ' ', a.value->>'lastname')\")]\n",
    "    return ' or '.join(terms)\n",
    "           \n",
    "print (build_search_expr('karel capek'))"
   ]
  },
  {
   "cell_type": "code",
   "execution_count": 11,
   "metadata": {
    "collapsed": false
   },
   "outputs": [
    {
     "name": "stdout",
     "output_type": "stream",
     "text": [
      "1000 loops, best of 3: 2.13 ms per loop\n"
     ]
    }
   ],
   "source": [
    "%%timeit\n",
    "search=\"karel čapek\"\n",
    "cur.execute(\"select b.id, b.doc from ebook b, jsonb_array_elements(b.doc->'authors') a where %s limit 5\" % \\\n",
    "           build_search_expr(search))\n",
    "cur.fetchall()"
   ]
  }
 ],
 "metadata": {
  "kernelspec": {
   "display_name": "Python 3",
   "language": "python",
   "name": "python3"
  },
  "language_info": {
   "codemirror_mode": {
    "name": "ipython",
    "version": 3
   },
   "file_extension": ".py",
   "mimetype": "text/x-python",
   "name": "python",
   "nbconvert_exporter": "python",
   "pygments_lexer": "ipython3",
   "version": "3.4.3"
  }
 },
 "nbformat": 4,
 "nbformat_minor": 0
}
